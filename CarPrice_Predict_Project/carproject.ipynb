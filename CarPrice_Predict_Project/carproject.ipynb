{
 "cells": [
  {
   "cell_type": "code",
   "execution_count": 116,
   "metadata": {},
   "outputs": [
    {
     "name": "stdout",
     "output_type": "stream",
     "text": [
      "183.78298141338746\n",
      "Dự đoán giá: 10366.01977266423\n"
     ]
    }
   ],
   "source": [
    "import pandas as pd\n",
    "import numpy as np\n",
    "\n",
    "dataframe = pd.read_csv(\"CarPrice_Assignment.csv\")\n",
    "dataframe = dataframe.drop(columns=['car_ID', 'CarName','symboling'])\n",
    "\n",
    "\n",
    "dataframe['fueltype'] = dataframe['fueltype'].map({'gas': 1, 'diesel': 0})\n",
    "dataframe['aspiration'] = dataframe['aspiration'].map({'std': 0, 'turbo': 1})\n",
    "dataframe['doornumber'] = dataframe['doornumber'].map({'two': 2, 'four': 4})\n",
    "dataframe['carbody'] = dataframe['carbody'].map({'convertible': 0, 'hatchback': 1, 'sedan': 2, 'wagon': 3,'hardtop':4})\n",
    "dataframe['drivewheel'] = dataframe['drivewheel'].map({'fwd': 0, 'rwd': 1, '4wd': 2})\n",
    "dataframe['enginelocation'] = dataframe['enginelocation'].map({'front': 0, 'rear': 1})\n",
    "dataframe['enginetype'] = dataframe['enginetype'].map({'dohc': 0, 'ohc': 1, 'ohcv': 2, 'l': 3, 'rotor': 4,'ohcf':5,'dohcv':6})\n",
    "dataframe['fuelsystem'] = dataframe['fuelsystem'].map({'mpfi': 0, '2bbl': 1, '1bbl': 2, 'spdi': 3, 'mfi': 4, 'idi': 5, 'spfi': 6,'4bbl':7})\n",
    "dataframe['cylindernumber'] = dataframe['cylindernumber'].map({'two': 2, 'three': 3, 'four': 4, 'five': 5, 'six': 6, 'eight': 8,'twelve':12})\n",
    "\n",
    "\n",
    "\n",
    "\n",
    "x = dataframe.drop(columns=['price'])\n",
    "y = dataframe[\"price\"]\n",
    "\n",
    "X = np.array(x)\n",
    "y = np.array(y)\n",
    "\n",
    "ones = np.ones((X.shape[0], 1))\n",
    "Xbar = np.concatenate((ones, X), axis=1)\n",
    "A = np.dot(Xbar.T, Xbar)\n",
    "b = np.dot(Xbar.T, y)\n",
    "\n",
    "w = np.dot(np.linalg.pinv(A), b)\n",
    "\n",
    "\n",
    "print(w[-1])\n",
    "newcar = np.array([\n",
    "        1,#bias\n",
    "        1,#gas\n",
    "        0,#std\n",
    "        4,#4\n",
    "        2,#sedan\n",
    "        0,#fwd\n",
    "        0,#front\n",
    "        97.3,\n",
    "        171.7,\n",
    "        65.5,\n",
    "        55.7,\n",
    "        2300,\n",
    "        1,#ohc\n",
    "        4,#4\n",
    "        109,\n",
    "        0,#mpfi\n",
    "        3.19,\n",
    "        3.4,\n",
    "        10,\n",
    "        100,\n",
    "        5500,\n",
    "        26,\n",
    "        32\n",
    "])\n",
    "predict = np.dot(newcar, w)\n",
    "print(\"Dự đoán giá:\", predict)\n",
    "\n"
   ]
  }
 ],
 "metadata": {
  "kernelspec": {
   "display_name": "Python 3",
   "language": "python",
   "name": "python3"
  },
  "language_info": {
   "codemirror_mode": {
    "name": "ipython",
    "version": 3
   },
   "file_extension": ".py",
   "mimetype": "text/x-python",
   "name": "python",
   "nbconvert_exporter": "python",
   "pygments_lexer": "ipython3",
   "version": "3.13.0"
  }
 },
 "nbformat": 4,
 "nbformat_minor": 2
}
